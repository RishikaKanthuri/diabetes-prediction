{
 "cells": [
  {
   "cell_type": "markdown",
   "metadata": {
    "id": "nZbI1gFCGSsy"
   },
   "source": [
    "### Importing some required python libraries."
   ]
  },
  {
   "cell_type": "code",
   "execution_count": 1,
   "metadata": {
    "id": "H-UqlKEzGrl_"
   },
   "outputs": [],
   "source": [
    "import pandas as pd \n",
    "import numpy as np\n",
    "import matplotlib.pyplot as plt\n",
    "import seaborn as sns"
   ]
  },
  {
   "cell_type": "markdown",
   "metadata": {
    "id": "mSSRkp950NUn"
   },
   "source": [
    "## Data Exploration"
   ]
  },
  {
   "cell_type": "markdown",
   "metadata": {
    "id": "O62YW24VL3PR"
   },
   "source": [
    "reading the data using pandas"
   ]
  },
  {
   "cell_type": "code",
   "execution_count": 2,
   "metadata": {
    "id": "VOesAErBGn_A"
   },
   "outputs": [],
   "source": [
    "df = pd.read_csv(\"diabetes.csv\")"
   ]
  },
  {
   "cell_type": "markdown",
   "metadata": {
    "id": "OpBD_UJoMoGu"
   },
   "source": [
    "displays first five rows of the dataset."
   ]
  },
  {
   "cell_type": "code",
   "execution_count": 3,
   "metadata": {
    "colab": {
     "base_uri": "https://localhost:8080/",
     "height": 206
    },
    "id": "iXeSHuQXMXBM",
    "outputId": "4af79b3b-6898-41d6-8d1e-f5e008cf1f07"
   },
   "outputs": [
    {
     "data": {
      "text/html": [
       "<div>\n",
       "<style scoped>\n",
       "    .dataframe tbody tr th:only-of-type {\n",
       "        vertical-align: middle;\n",
       "    }\n",
       "\n",
       "    .dataframe tbody tr th {\n",
       "        vertical-align: top;\n",
       "    }\n",
       "\n",
       "    .dataframe thead th {\n",
       "        text-align: right;\n",
       "    }\n",
       "</style>\n",
       "<table border=\"1\" class=\"dataframe\">\n",
       "  <thead>\n",
       "    <tr style=\"text-align: right;\">\n",
       "      <th></th>\n",
       "      <th>Pregnancies</th>\n",
       "      <th>Glucose</th>\n",
       "      <th>BloodPressure</th>\n",
       "      <th>SkinThickness</th>\n",
       "      <th>Insulin</th>\n",
       "      <th>BMI</th>\n",
       "      <th>DiabetesPedigreeFunction</th>\n",
       "      <th>Age</th>\n",
       "      <th>Outcome</th>\n",
       "    </tr>\n",
       "  </thead>\n",
       "  <tbody>\n",
       "    <tr>\n",
       "      <th>0</th>\n",
       "      <td>6</td>\n",
       "      <td>148</td>\n",
       "      <td>72</td>\n",
       "      <td>35</td>\n",
       "      <td>0</td>\n",
       "      <td>33.6</td>\n",
       "      <td>0.627</td>\n",
       "      <td>50</td>\n",
       "      <td>1</td>\n",
       "    </tr>\n",
       "    <tr>\n",
       "      <th>1</th>\n",
       "      <td>1</td>\n",
       "      <td>85</td>\n",
       "      <td>66</td>\n",
       "      <td>29</td>\n",
       "      <td>0</td>\n",
       "      <td>26.6</td>\n",
       "      <td>0.351</td>\n",
       "      <td>31</td>\n",
       "      <td>0</td>\n",
       "    </tr>\n",
       "    <tr>\n",
       "      <th>2</th>\n",
       "      <td>8</td>\n",
       "      <td>183</td>\n",
       "      <td>64</td>\n",
       "      <td>0</td>\n",
       "      <td>0</td>\n",
       "      <td>23.3</td>\n",
       "      <td>0.672</td>\n",
       "      <td>32</td>\n",
       "      <td>1</td>\n",
       "    </tr>\n",
       "    <tr>\n",
       "      <th>3</th>\n",
       "      <td>1</td>\n",
       "      <td>89</td>\n",
       "      <td>66</td>\n",
       "      <td>23</td>\n",
       "      <td>94</td>\n",
       "      <td>28.1</td>\n",
       "      <td>0.167</td>\n",
       "      <td>21</td>\n",
       "      <td>0</td>\n",
       "    </tr>\n",
       "    <tr>\n",
       "      <th>4</th>\n",
       "      <td>0</td>\n",
       "      <td>137</td>\n",
       "      <td>40</td>\n",
       "      <td>35</td>\n",
       "      <td>168</td>\n",
       "      <td>43.1</td>\n",
       "      <td>2.288</td>\n",
       "      <td>33</td>\n",
       "      <td>1</td>\n",
       "    </tr>\n",
       "  </tbody>\n",
       "</table>\n",
       "</div>"
      ],
      "text/plain": [
       "   Pregnancies  Glucose  BloodPressure  ...  DiabetesPedigreeFunction  Age  Outcome\n",
       "0            6      148             72  ...                     0.627   50        1\n",
       "1            1       85             66  ...                     0.351   31        0\n",
       "2            8      183             64  ...                     0.672   32        1\n",
       "3            1       89             66  ...                     0.167   21        0\n",
       "4            0      137             40  ...                     2.288   33        1\n",
       "\n",
       "[5 rows x 9 columns]"
      ]
     },
     "execution_count": 3,
     "metadata": {
      "tags": []
     },
     "output_type": "execute_result"
    }
   ],
   "source": [
    "df.head()"
   ]
  },
  {
   "cell_type": "markdown",
   "metadata": {
    "id": "Cb8pF3ERMuVZ"
   },
   "source": [
    "displays the last five rows of the dataset."
   ]
  },
  {
   "cell_type": "code",
   "execution_count": 4,
   "metadata": {
    "colab": {
     "base_uri": "https://localhost:8080/",
     "height": 206
    },
    "id": "EmSWMRhmMbUR",
    "outputId": "44f26c3b-cf74-46f9-a59b-2e236f56aa36"
   },
   "outputs": [
    {
     "data": {
      "text/html": [
       "<div>\n",
       "<style scoped>\n",
       "    .dataframe tbody tr th:only-of-type {\n",
       "        vertical-align: middle;\n",
       "    }\n",
       "\n",
       "    .dataframe tbody tr th {\n",
       "        vertical-align: top;\n",
       "    }\n",
       "\n",
       "    .dataframe thead th {\n",
       "        text-align: right;\n",
       "    }\n",
       "</style>\n",
       "<table border=\"1\" class=\"dataframe\">\n",
       "  <thead>\n",
       "    <tr style=\"text-align: right;\">\n",
       "      <th></th>\n",
       "      <th>Pregnancies</th>\n",
       "      <th>Glucose</th>\n",
       "      <th>BloodPressure</th>\n",
       "      <th>SkinThickness</th>\n",
       "      <th>Insulin</th>\n",
       "      <th>BMI</th>\n",
       "      <th>DiabetesPedigreeFunction</th>\n",
       "      <th>Age</th>\n",
       "      <th>Outcome</th>\n",
       "    </tr>\n",
       "  </thead>\n",
       "  <tbody>\n",
       "    <tr>\n",
       "      <th>763</th>\n",
       "      <td>10</td>\n",
       "      <td>101</td>\n",
       "      <td>76</td>\n",
       "      <td>48</td>\n",
       "      <td>180</td>\n",
       "      <td>32.9</td>\n",
       "      <td>0.171</td>\n",
       "      <td>63</td>\n",
       "      <td>0</td>\n",
       "    </tr>\n",
       "    <tr>\n",
       "      <th>764</th>\n",
       "      <td>2</td>\n",
       "      <td>122</td>\n",
       "      <td>70</td>\n",
       "      <td>27</td>\n",
       "      <td>0</td>\n",
       "      <td>36.8</td>\n",
       "      <td>0.340</td>\n",
       "      <td>27</td>\n",
       "      <td>0</td>\n",
       "    </tr>\n",
       "    <tr>\n",
       "      <th>765</th>\n",
       "      <td>5</td>\n",
       "      <td>121</td>\n",
       "      <td>72</td>\n",
       "      <td>23</td>\n",
       "      <td>112</td>\n",
       "      <td>26.2</td>\n",
       "      <td>0.245</td>\n",
       "      <td>30</td>\n",
       "      <td>0</td>\n",
       "    </tr>\n",
       "    <tr>\n",
       "      <th>766</th>\n",
       "      <td>1</td>\n",
       "      <td>126</td>\n",
       "      <td>60</td>\n",
       "      <td>0</td>\n",
       "      <td>0</td>\n",
       "      <td>30.1</td>\n",
       "      <td>0.349</td>\n",
       "      <td>47</td>\n",
       "      <td>1</td>\n",
       "    </tr>\n",
       "    <tr>\n",
       "      <th>767</th>\n",
       "      <td>1</td>\n",
       "      <td>93</td>\n",
       "      <td>70</td>\n",
       "      <td>31</td>\n",
       "      <td>0</td>\n",
       "      <td>30.4</td>\n",
       "      <td>0.315</td>\n",
       "      <td>23</td>\n",
       "      <td>0</td>\n",
       "    </tr>\n",
       "  </tbody>\n",
       "</table>\n",
       "</div>"
      ],
      "text/plain": [
       "     Pregnancies  Glucose  ...  Age  Outcome\n",
       "763           10      101  ...   63        0\n",
       "764            2      122  ...   27        0\n",
       "765            5      121  ...   30        0\n",
       "766            1      126  ...   47        1\n",
       "767            1       93  ...   23        0\n",
       "\n",
       "[5 rows x 9 columns]"
      ]
     },
     "execution_count": 4,
     "metadata": {
      "tags": []
     },
     "output_type": "execute_result"
    }
   ],
   "source": [
    "df.tail()"
   ]
  },
  {
   "cell_type": "markdown",
   "metadata": {
    "id": "8DrcEg0O0sx8"
   },
   "source": [
    "Displaying the shape of the data : it contains 768 records and 9 columns."
   ]
  },
  {
   "cell_type": "code",
   "execution_count": 5,
   "metadata": {
    "colab": {
     "base_uri": "https://localhost:8080/"
    },
    "id": "qBdSCllH0-I7",
    "outputId": "6aeaace9-7e40-45b1-a91e-8665bad1d515"
   },
   "outputs": [
    {
     "data": {
      "text/plain": [
       "(768, 9)"
      ]
     },
     "execution_count": 5,
     "metadata": {
      "tags": []
     },
     "output_type": "execute_result"
    }
   ],
   "source": [
    "df.shape"
   ]
  },
  {
   "cell_type": "code",
   "execution_count": 6,
   "metadata": {
    "colab": {
     "base_uri": "https://localhost:8080/",
     "height": 423
    },
    "id": "4jRhIfyYM7yg",
    "outputId": "215fceac-ae8b-40db-a9d0-e5bc63c45f41"
   },
   "outputs": [
    {
     "data": {
      "text/html": [
       "<div>\n",
       "<style scoped>\n",
       "    .dataframe tbody tr th:only-of-type {\n",
       "        vertical-align: middle;\n",
       "    }\n",
       "\n",
       "    .dataframe tbody tr th {\n",
       "        vertical-align: top;\n",
       "    }\n",
       "\n",
       "    .dataframe thead th {\n",
       "        text-align: right;\n",
       "    }\n",
       "</style>\n",
       "<table border=\"1\" class=\"dataframe\">\n",
       "  <thead>\n",
       "    <tr style=\"text-align: right;\">\n",
       "      <th></th>\n",
       "      <th>Pregnancies</th>\n",
       "      <th>Glucose</th>\n",
       "      <th>BloodPressure</th>\n",
       "      <th>SkinThickness</th>\n",
       "      <th>Insulin</th>\n",
       "      <th>BMI</th>\n",
       "      <th>DiabetesPedigreeFunction</th>\n",
       "      <th>Age</th>\n",
       "      <th>Outcome</th>\n",
       "    </tr>\n",
       "  </thead>\n",
       "  <tbody>\n",
       "    <tr>\n",
       "      <th>0</th>\n",
       "      <td>6</td>\n",
       "      <td>148</td>\n",
       "      <td>72</td>\n",
       "      <td>35</td>\n",
       "      <td>0</td>\n",
       "      <td>33.6</td>\n",
       "      <td>0.627</td>\n",
       "      <td>50</td>\n",
       "      <td>1</td>\n",
       "    </tr>\n",
       "    <tr>\n",
       "      <th>1</th>\n",
       "      <td>1</td>\n",
       "      <td>85</td>\n",
       "      <td>66</td>\n",
       "      <td>29</td>\n",
       "      <td>0</td>\n",
       "      <td>26.6</td>\n",
       "      <td>0.351</td>\n",
       "      <td>31</td>\n",
       "      <td>0</td>\n",
       "    </tr>\n",
       "    <tr>\n",
       "      <th>2</th>\n",
       "      <td>8</td>\n",
       "      <td>183</td>\n",
       "      <td>64</td>\n",
       "      <td>0</td>\n",
       "      <td>0</td>\n",
       "      <td>23.3</td>\n",
       "      <td>0.672</td>\n",
       "      <td>32</td>\n",
       "      <td>1</td>\n",
       "    </tr>\n",
       "    <tr>\n",
       "      <th>3</th>\n",
       "      <td>1</td>\n",
       "      <td>89</td>\n",
       "      <td>66</td>\n",
       "      <td>23</td>\n",
       "      <td>94</td>\n",
       "      <td>28.1</td>\n",
       "      <td>0.167</td>\n",
       "      <td>21</td>\n",
       "      <td>0</td>\n",
       "    </tr>\n",
       "    <tr>\n",
       "      <th>4</th>\n",
       "      <td>0</td>\n",
       "      <td>137</td>\n",
       "      <td>40</td>\n",
       "      <td>35</td>\n",
       "      <td>168</td>\n",
       "      <td>43.1</td>\n",
       "      <td>2.288</td>\n",
       "      <td>33</td>\n",
       "      <td>1</td>\n",
       "    </tr>\n",
       "    <tr>\n",
       "      <th>...</th>\n",
       "      <td>...</td>\n",
       "      <td>...</td>\n",
       "      <td>...</td>\n",
       "      <td>...</td>\n",
       "      <td>...</td>\n",
       "      <td>...</td>\n",
       "      <td>...</td>\n",
       "      <td>...</td>\n",
       "      <td>...</td>\n",
       "    </tr>\n",
       "    <tr>\n",
       "      <th>763</th>\n",
       "      <td>10</td>\n",
       "      <td>101</td>\n",
       "      <td>76</td>\n",
       "      <td>48</td>\n",
       "      <td>180</td>\n",
       "      <td>32.9</td>\n",
       "      <td>0.171</td>\n",
       "      <td>63</td>\n",
       "      <td>0</td>\n",
       "    </tr>\n",
       "    <tr>\n",
       "      <th>764</th>\n",
       "      <td>2</td>\n",
       "      <td>122</td>\n",
       "      <td>70</td>\n",
       "      <td>27</td>\n",
       "      <td>0</td>\n",
       "      <td>36.8</td>\n",
       "      <td>0.340</td>\n",
       "      <td>27</td>\n",
       "      <td>0</td>\n",
       "    </tr>\n",
       "    <tr>\n",
       "      <th>765</th>\n",
       "      <td>5</td>\n",
       "      <td>121</td>\n",
       "      <td>72</td>\n",
       "      <td>23</td>\n",
       "      <td>112</td>\n",
       "      <td>26.2</td>\n",
       "      <td>0.245</td>\n",
       "      <td>30</td>\n",
       "      <td>0</td>\n",
       "    </tr>\n",
       "    <tr>\n",
       "      <th>766</th>\n",
       "      <td>1</td>\n",
       "      <td>126</td>\n",
       "      <td>60</td>\n",
       "      <td>0</td>\n",
       "      <td>0</td>\n",
       "      <td>30.1</td>\n",
       "      <td>0.349</td>\n",
       "      <td>47</td>\n",
       "      <td>1</td>\n",
       "    </tr>\n",
       "    <tr>\n",
       "      <th>767</th>\n",
       "      <td>1</td>\n",
       "      <td>93</td>\n",
       "      <td>70</td>\n",
       "      <td>31</td>\n",
       "      <td>0</td>\n",
       "      <td>30.4</td>\n",
       "      <td>0.315</td>\n",
       "      <td>23</td>\n",
       "      <td>0</td>\n",
       "    </tr>\n",
       "  </tbody>\n",
       "</table>\n",
       "<p>768 rows × 9 columns</p>\n",
       "</div>"
      ],
      "text/plain": [
       "     Pregnancies  Glucose  ...  Age  Outcome\n",
       "0              6      148  ...   50        1\n",
       "1              1       85  ...   31        0\n",
       "2              8      183  ...   32        1\n",
       "3              1       89  ...   21        0\n",
       "4              0      137  ...   33        1\n",
       "..           ...      ...  ...  ...      ...\n",
       "763           10      101  ...   63        0\n",
       "764            2      122  ...   27        0\n",
       "765            5      121  ...   30        0\n",
       "766            1      126  ...   47        1\n",
       "767            1       93  ...   23        0\n",
       "\n",
       "[768 rows x 9 columns]"
      ]
     },
     "execution_count": 6,
     "metadata": {
      "tags": []
     },
     "output_type": "execute_result"
    }
   ],
   "source": [
    "df"
   ]
  },
  {
   "cell_type": "markdown",
   "metadata": {
    "id": "bRSwxjD91dYS"
   },
   "source": [
    "The below function verifies that there are no missing values in the data."
   ]
  },
  {
   "cell_type": "code",
   "execution_count": 7,
   "metadata": {
    "colab": {
     "base_uri": "https://localhost:8080/"
    },
    "id": "hjWVnDNK1rTM",
    "outputId": "a9991dc8-8df4-4345-d94e-cb865c265429"
   },
   "outputs": [
    {
     "data": {
      "text/plain": [
       "Pregnancies                 0\n",
       "Glucose                     0\n",
       "BloodPressure               0\n",
       "SkinThickness               0\n",
       "Insulin                     0\n",
       "BMI                         0\n",
       "DiabetesPedigreeFunction    0\n",
       "Age                         0\n",
       "Outcome                     0\n",
       "dtype: int64"
      ]
     },
     "execution_count": 7,
     "metadata": {
      "tags": []
     },
     "output_type": "execute_result"
    }
   ],
   "source": [
    "df.isnull().sum()"
   ]
  },
  {
   "cell_type": "markdown",
   "metadata": {
    "id": "dUtSG1fmN0ts"
   },
   "source": [
    "displaying the different datatypes in the dataset"
   ]
  },
  {
   "cell_type": "code",
   "execution_count": 8,
   "metadata": {
    "colab": {
     "base_uri": "https://localhost:8080/"
    },
    "id": "4ce6sPvdNub5",
    "outputId": "afa567de-918b-496d-a441-6ca33711b34e"
   },
   "outputs": [
    {
     "data": {
      "text/plain": [
       "Pregnancies                   int64\n",
       "Glucose                       int64\n",
       "BloodPressure                 int64\n",
       "SkinThickness                 int64\n",
       "Insulin                       int64\n",
       "BMI                         float64\n",
       "DiabetesPedigreeFunction    float64\n",
       "Age                           int64\n",
       "Outcome                       int64\n",
       "dtype: object"
      ]
     },
     "execution_count": 8,
     "metadata": {
      "tags": []
     },
     "output_type": "execute_result"
    }
   ],
   "source": [
    "df.dtypes"
   ]
  },
  {
   "cell_type": "markdown",
   "metadata": {
    "id": "RaCgXiyK2Tsm"
   },
   "source": [
    "Using correlation( ), we can obtain the impact of each column on the outcome."
   ]
  },
  {
   "cell_type": "code",
   "execution_count": 9,
   "metadata": {
    "colab": {
     "base_uri": "https://localhost:8080/",
     "height": 331
    },
    "id": "6Us0NHGjG1Lv",
    "outputId": "241634c7-2996-46e7-ee64-d7a9d6b01927"
   },
   "outputs": [
    {
     "data": {
      "text/html": [
       "<div>\n",
       "<style scoped>\n",
       "    .dataframe tbody tr th:only-of-type {\n",
       "        vertical-align: middle;\n",
       "    }\n",
       "\n",
       "    .dataframe tbody tr th {\n",
       "        vertical-align: top;\n",
       "    }\n",
       "\n",
       "    .dataframe thead th {\n",
       "        text-align: right;\n",
       "    }\n",
       "</style>\n",
       "<table border=\"1\" class=\"dataframe\">\n",
       "  <thead>\n",
       "    <tr style=\"text-align: right;\">\n",
       "      <th></th>\n",
       "      <th>Pregnancies</th>\n",
       "      <th>Glucose</th>\n",
       "      <th>BloodPressure</th>\n",
       "      <th>SkinThickness</th>\n",
       "      <th>Insulin</th>\n",
       "      <th>BMI</th>\n",
       "      <th>DiabetesPedigreeFunction</th>\n",
       "      <th>Age</th>\n",
       "      <th>Outcome</th>\n",
       "    </tr>\n",
       "  </thead>\n",
       "  <tbody>\n",
       "    <tr>\n",
       "      <th>Pregnancies</th>\n",
       "      <td>1.000000</td>\n",
       "      <td>0.129459</td>\n",
       "      <td>0.141282</td>\n",
       "      <td>-0.081672</td>\n",
       "      <td>-0.073535</td>\n",
       "      <td>0.017683</td>\n",
       "      <td>-0.033523</td>\n",
       "      <td>0.544341</td>\n",
       "      <td>0.221898</td>\n",
       "    </tr>\n",
       "    <tr>\n",
       "      <th>Glucose</th>\n",
       "      <td>0.129459</td>\n",
       "      <td>1.000000</td>\n",
       "      <td>0.152590</td>\n",
       "      <td>0.057328</td>\n",
       "      <td>0.331357</td>\n",
       "      <td>0.221071</td>\n",
       "      <td>0.137337</td>\n",
       "      <td>0.263514</td>\n",
       "      <td>0.466581</td>\n",
       "    </tr>\n",
       "    <tr>\n",
       "      <th>BloodPressure</th>\n",
       "      <td>0.141282</td>\n",
       "      <td>0.152590</td>\n",
       "      <td>1.000000</td>\n",
       "      <td>0.207371</td>\n",
       "      <td>0.088933</td>\n",
       "      <td>0.281805</td>\n",
       "      <td>0.041265</td>\n",
       "      <td>0.239528</td>\n",
       "      <td>0.065068</td>\n",
       "    </tr>\n",
       "    <tr>\n",
       "      <th>SkinThickness</th>\n",
       "      <td>-0.081672</td>\n",
       "      <td>0.057328</td>\n",
       "      <td>0.207371</td>\n",
       "      <td>1.000000</td>\n",
       "      <td>0.436783</td>\n",
       "      <td>0.392573</td>\n",
       "      <td>0.183928</td>\n",
       "      <td>-0.113970</td>\n",
       "      <td>0.074752</td>\n",
       "    </tr>\n",
       "    <tr>\n",
       "      <th>Insulin</th>\n",
       "      <td>-0.073535</td>\n",
       "      <td>0.331357</td>\n",
       "      <td>0.088933</td>\n",
       "      <td>0.436783</td>\n",
       "      <td>1.000000</td>\n",
       "      <td>0.197859</td>\n",
       "      <td>0.185071</td>\n",
       "      <td>-0.042163</td>\n",
       "      <td>0.130548</td>\n",
       "    </tr>\n",
       "    <tr>\n",
       "      <th>BMI</th>\n",
       "      <td>0.017683</td>\n",
       "      <td>0.221071</td>\n",
       "      <td>0.281805</td>\n",
       "      <td>0.392573</td>\n",
       "      <td>0.197859</td>\n",
       "      <td>1.000000</td>\n",
       "      <td>0.140647</td>\n",
       "      <td>0.036242</td>\n",
       "      <td>0.292695</td>\n",
       "    </tr>\n",
       "    <tr>\n",
       "      <th>DiabetesPedigreeFunction</th>\n",
       "      <td>-0.033523</td>\n",
       "      <td>0.137337</td>\n",
       "      <td>0.041265</td>\n",
       "      <td>0.183928</td>\n",
       "      <td>0.185071</td>\n",
       "      <td>0.140647</td>\n",
       "      <td>1.000000</td>\n",
       "      <td>0.033561</td>\n",
       "      <td>0.173844</td>\n",
       "    </tr>\n",
       "    <tr>\n",
       "      <th>Age</th>\n",
       "      <td>0.544341</td>\n",
       "      <td>0.263514</td>\n",
       "      <td>0.239528</td>\n",
       "      <td>-0.113970</td>\n",
       "      <td>-0.042163</td>\n",
       "      <td>0.036242</td>\n",
       "      <td>0.033561</td>\n",
       "      <td>1.000000</td>\n",
       "      <td>0.238356</td>\n",
       "    </tr>\n",
       "    <tr>\n",
       "      <th>Outcome</th>\n",
       "      <td>0.221898</td>\n",
       "      <td>0.466581</td>\n",
       "      <td>0.065068</td>\n",
       "      <td>0.074752</td>\n",
       "      <td>0.130548</td>\n",
       "      <td>0.292695</td>\n",
       "      <td>0.173844</td>\n",
       "      <td>0.238356</td>\n",
       "      <td>1.000000</td>\n",
       "    </tr>\n",
       "  </tbody>\n",
       "</table>\n",
       "</div>"
      ],
      "text/plain": [
       "                          Pregnancies   Glucose  ...       Age   Outcome\n",
       "Pregnancies                  1.000000  0.129459  ...  0.544341  0.221898\n",
       "Glucose                      0.129459  1.000000  ...  0.263514  0.466581\n",
       "BloodPressure                0.141282  0.152590  ...  0.239528  0.065068\n",
       "SkinThickness               -0.081672  0.057328  ... -0.113970  0.074752\n",
       "Insulin                     -0.073535  0.331357  ... -0.042163  0.130548\n",
       "BMI                          0.017683  0.221071  ...  0.036242  0.292695\n",
       "DiabetesPedigreeFunction    -0.033523  0.137337  ...  0.033561  0.173844\n",
       "Age                          0.544341  0.263514  ...  1.000000  0.238356\n",
       "Outcome                      0.221898  0.466581  ...  0.238356  1.000000\n",
       "\n",
       "[9 rows x 9 columns]"
      ]
     },
     "execution_count": 9,
     "metadata": {
      "tags": []
     },
     "output_type": "execute_result"
    }
   ],
   "source": [
    "corrmatrix = df.corr()\n",
    "corrmatrix"
   ]
  },
  {
   "cell_type": "markdown",
   "metadata": {
    "id": "3_JbUT7uMzia"
   },
   "source": [
    "## Data Visualization"
   ]
  },
  {
   "cell_type": "markdown",
   "metadata": {
    "id": "gDviXitrPL9a"
   },
   "source": [
    "The below bar plot depicts the count of total positive(1) and negative(0) outcomes of the entire dataset."
   ]
  },
  {
   "cell_type": "code",
   "execution_count": 10,
   "metadata": {
    "colab": {
     "base_uri": "https://localhost:8080/",
     "height": 279
    },
    "id": "xq_X7LK0Oc_C",
    "outputId": "3598a29f-33c7-48eb-98a7-94bfd2478dda"
   },
   "outputs": [
    {
     "data": {
      "image/png": "[encoded data removed]",
      "text/plain": [
       "<Figure size 432x288 with 1 Axes>"
      ]
     },
     "metadata": {
      "needs_background": "light",
      "tags": []
     },
     "output_type": "display_data"
    }
   ],
   "source": [
    "sns.countplot(x = \"Outcome\", data = df, palette = 'gist_ncar')\n",
    "plt.show()"
   ]
  },
  {
   "cell_type": "markdown",
   "metadata": {
    "id": "oAUqFouNeOpN"
   },
   "source": [
    "The below barplots are the barplots of some important columns of the dataset and for the columns which have very huge values, are plotted by taking some of the values instead of all the values in the dataset."
   ]
  },
  {
   "cell_type": "code",
   "execution_count": 11,
   "metadata": {
    "colab": {
     "base_uri": "https://localhost:8080/",
     "height": 383
    },
    "id": "01m_cgRcJQv-",
    "outputId": "f086fce3-05b7-4c62-a25f-c4f26370fffb"
   },
   "outputs": [
    {
     "data": {
      "image/png": "[encoded data removed]",
      "text/plain": [
       "<Figure size 413.25x360 with 1 Axes>"
      ]
     },
     "metadata": {
      "needs_background": "light",
      "tags": []
     },
     "output_type": "display_data"
    }
   ],
   "source": [
    "sns.catplot(x = 'Pregnancies', hue = 'Outcome',kind = 'count', data = df,palette = 'OrRd_r')\n",
    "plt.show()"
   ]
  },
  {
   "cell_type": "code",
   "execution_count": 12,
   "metadata": {
    "colab": {
     "base_uri": "https://localhost:8080/",
     "height": 279
    },
    "id": "AOOIXJTiR2NV",
    "outputId": "3eddd0fe-76cd-43cd-fc36-3261afb463a2"
   },
   "outputs": [
    {
     "data": {
      "image/png": "[encoded data removed]",
      "text/plain": [
       "<Figure size 432x288 with 1 Axes>"
      ]
     },
     "metadata": {
      "needs_background": "light",
      "tags": []
     },
     "output_type": "display_data"
    }
   ],
   "source": [
    "sns.countplot(x = df.loc[0:20,'Glucose'], hue = 'Outcome', data = df, palette = 'gist_rainbow')\n",
    "plt.show()"
   ]
  },
  {
   "cell_type": "code",
   "execution_count": 13,
   "metadata": {
    "colab": {
     "base_uri": "https://localhost:8080/",
     "height": 279
    },
    "id": "3srffG-zTASa",
    "outputId": "8270edb4-d556-4055-e60a-f8d58313130c"
   },
   "outputs": [
    {
     "data": {
      "image/png": "[encoded data removed]",
      "text/plain": [
       "<Figure size 432x288 with 1 Axes>"
      ]
     },
     "metadata": {
      "needs_background": "light",
      "tags": []
     },
     "output_type": "display_data"
    }
   ],
   "source": [
    "sns.countplot(x = df.loc[0:20,'Insulin'], hue = 'Outcome', data = df, palette = 'PuRd')\n",
    "plt.show()"
   ]
  },
  {
   "cell_type": "code",
   "execution_count": 14,
   "metadata": {
    "colab": {
     "base_uri": "https://localhost:8080/",
     "height": 279
    },
    "id": "W51P2YEmT7Cm",
    "outputId": "ac9319e7-455a-4c2b-a286-d682e393899e"
   },
   "outputs": [
    {
     "data": {
      "image/png": "[encoded data removed]",
      "text/plain": [
       "<Figure size 432x288 with 1 Axes>"
      ]
     },
     "metadata": {
      "needs_background": "light",
      "tags": []
     },
     "output_type": "display_data"
    }
   ],
   "source": [
    "sns.countplot(x = df['BMI'].head(20), hue = 'Outcome', data = df, palette = 'Spectral')\n",
    "plt.show()"
   ]
  },
  {
   "cell_type": "code",
   "execution_count": 15,
   "metadata": {
    "colab": {
     "base_uri": "https://localhost:8080/",
     "height": 279
    },
    "id": "F5LhJWowURA3",
    "outputId": "db06e11e-6b26-4264-f445-ecdbe7010d2a"
   },
   "outputs": [
    {
     "data": {
      "image/png": "[encoded data removed]",
      "text/plain": [
       "<Figure size 432x288 with 1 Axes>"
      ]
     },
     "metadata": {
      "needs_background": "light",
      "tags": []
     },
     "output_type": "display_data"
    }
   ],
   "source": [
    "sns.countplot(x = df.loc[0:15,'DiabetesPedigreeFunction'], hue = 'Outcome', data = df, palette = 'cubehelix')\n",
    "plt.show()"
   ]
  },
  {
   "cell_type": "code",
   "execution_count": 16,
   "metadata": {
    "colab": {
     "base_uri": "https://localhost:8080/",
     "height": 279
    },
    "id": "QKHlo_x4Uc-k",
    "outputId": "05dcd07e-be11-457b-87bd-2ea70b305189"
   },
   "outputs": [
    {
     "data": {
      "image/png": "[encoded data removed]",
      "text/plain": [
       "<Figure size 432x288 with 1 Axes>"
      ]
     },
     "metadata": {
      "needs_background": "light",
      "tags": []
     },
     "output_type": "display_data"
    }
   ],
   "source": [
    "sns.countplot(x = df.loc[0:20,'Age'], hue = 'Outcome', data = df, palette = 'gist_heat_r')\n",
    "plt.show()"
   ]
  },
  {
   "cell_type": "markdown",
   "metadata": {
    "id": "SBYy6YjXfqj7"
   },
   "source": [
    "Plotting the Correlation Matrix."
   ]
  },
  {
   "cell_type": "code",
   "execution_count": 17,
   "metadata": {
    "colab": {
     "base_uri": "https://localhost:8080/",
     "height": 390
    },
    "id": "-XMsnMTLM73n",
    "outputId": "7a571285-8133-41e3-ce88-84d5a0e2ae7b"
   },
   "outputs": [
    {
     "data": {
      "image/png": "[encoded data removed]",
      "text/plain": [
       "<Figure size 432x288 with 2 Axes>"
      ]
     },
     "metadata": {
      "needs_background": "light",
      "tags": []
     },
     "output_type": "display_data"
    }
   ],
   "source": [
    "sns.heatmap(corrmatrix,annot = True)\n",
    "plt.show()"
   ]
  },
  {
   "cell_type": "markdown",
   "metadata": {
    "id": "GARn9a_V7XDq"
   },
   "source": [
    "## Data Preprocessing"
   ]
  },
  {
   "cell_type": "markdown",
   "metadata": {
    "id": "izu3V2k93Vox"
   },
   "source": [
    "As all the columns of the dataset are not necessary, we use only the columns which have major impact on the outcome.In the below statement, I've used columns which have an impact >0.10."
   ]
  },
  {
   "cell_type": "code",
   "execution_count": 18,
   "metadata": {
    "colab": {
     "base_uri": "https://localhost:8080/"
    },
    "id": "GAkfc8SPmGSF",
    "outputId": "c0d8818a-3430-492c-d95b-adaeed62c600"
   },
   "outputs": [
    {
     "data": {
      "text/plain": [
       "array([[  6.   , 148.   ,   0.   ,  33.6  ,   0.627,  50.   ],\n",
       "       [  1.   ,  85.   ,   0.   ,  26.6  ,   0.351,  31.   ],\n",
       "       [  8.   , 183.   ,   0.   ,  23.3  ,   0.672,  32.   ],\n",
       "       ...,\n",
       "       [  5.   , 121.   , 112.   ,  26.2  ,   0.245,  30.   ],\n",
       "       [  1.   , 126.   ,   0.   ,  30.1  ,   0.349,  47.   ],\n",
       "       [  1.   ,  93.   ,   0.   ,  30.4  ,   0.315,  23.   ]])"
      ]
     },
     "execution_count": 18,
     "metadata": {
      "tags": []
     },
     "output_type": "execute_result"
    }
   ],
   "source": [
    "x = df[['Pregnancies', 'Glucose','Insulin','BMI','DiabetesPedigreeFunction' ,'Age']].values\n",
    "x"
   ]
  },
  {
   "cell_type": "code",
   "execution_count": 19,
   "metadata": {
    "colab": {
     "base_uri": "https://localhost:8080/"
    },
    "id": "BkRegfUInpXO",
    "outputId": "08e077f7-f555-4628-8c3a-8bf05041ce48"
   },
   "outputs": [
    {
     "data": {
      "text/plain": [
       "array([1, 0, 1, 0, 1, 0, 1, 0, 1, 1, 0, 1, 0, 1, 1, 1, 1, 1, 0, 1, 0, 0,\n",
       "       1, 1, 1, 1, 1, 0, 0, 0, 0, 1, 0, 0, 0, 0, 0, 1, 1, 1, 0, 0, 0, 1,\n",
       "       0, 1, 0, 0, 1, 0, 0, 0, 0, 1, 0, 0, 1, 0, 0, 0, 0, 1, 0, 0, 1, 0,\n",
       "       1, 0, 0, 0, 1, 0, 1, 0, 0, 0, 0, 0, 1, 0, 0, 0, 0, 0, 1, 0, 0, 0,\n",
       "       1, 0, 0, 0, 0, 1, 0, 0, 0, 0, 0, 1, 1, 0, 0, 0, 0, 0, 0, 0, 0, 1,\n",
       "       1, 1, 0, 0, 1, 1, 1, 0, 0, 0, 1, 0, 0, 0, 1, 1, 0, 0, 1, 1, 1, 1,\n",
       "       1, 0, 0, 0, 0, 0, 0, 0, 0, 0, 0, 1, 0, 0, 0, 0, 0, 0, 0, 0, 1, 0,\n",
       "       1, 1, 0, 0, 0, 1, 0, 0, 0, 0, 1, 1, 0, 0, 0, 0, 1, 1, 0, 0, 0, 1,\n",
       "       0, 1, 0, 1, 0, 0, 0, 0, 0, 1, 1, 1, 1, 1, 0, 0, 1, 1, 0, 1, 0, 1,\n",
       "       1, 1, 0, 0, 0, 0, 0, 0, 1, 1, 0, 1, 0, 0, 0, 1, 1, 1, 1, 0, 1, 1,\n",
       "       1, 1, 0, 0, 0, 0, 0, 1, 0, 0, 1, 1, 0, 0, 0, 1, 1, 1, 1, 0, 0, 0,\n",
       "       1, 1, 0, 1, 0, 0, 0, 0, 0, 0, 0, 0, 1, 1, 0, 0, 0, 1, 0, 1, 0, 0,\n",
       "       1, 0, 1, 0, 0, 1, 1, 0, 0, 0, 0, 0, 1, 0, 0, 0, 1, 0, 0, 1, 1, 0,\n",
       "       0, 1, 0, 0, 0, 1, 1, 1, 0, 0, 1, 0, 1, 0, 1, 1, 0, 1, 0, 0, 1, 0,\n",
       "       1, 1, 0, 0, 1, 0, 1, 0, 0, 1, 0, 1, 0, 1, 1, 1, 0, 0, 1, 0, 1, 0,\n",
       "       0, 0, 1, 0, 0, 0, 0, 1, 1, 1, 0, 0, 0, 0, 0, 0, 0, 0, 0, 1, 0, 0,\n",
       "       0, 0, 0, 1, 1, 1, 0, 1, 1, 0, 0, 1, 0, 0, 1, 0, 0, 1, 1, 0, 0, 0,\n",
       "       0, 1, 0, 0, 1, 0, 0, 0, 0, 0, 0, 0, 1, 1, 1, 0, 0, 1, 0, 0, 1, 0,\n",
       "       0, 1, 0, 1, 1, 0, 1, 0, 1, 0, 1, 0, 1, 1, 0, 0, 0, 0, 1, 1, 0, 1,\n",
       "       0, 1, 0, 0, 0, 0, 1, 1, 0, 1, 0, 1, 0, 0, 0, 0, 0, 1, 0, 0, 0, 0,\n",
       "       1, 0, 0, 1, 1, 1, 0, 0, 1, 0, 0, 1, 0, 0, 0, 1, 0, 0, 1, 0, 0, 0,\n",
       "       0, 0, 0, 0, 0, 0, 1, 0, 0, 0, 0, 0, 0, 0, 1, 0, 0, 0, 1, 0, 0, 0,\n",
       "       1, 1, 0, 0, 0, 0, 0, 0, 0, 1, 0, 0, 0, 0, 1, 0, 0, 0, 1, 0, 0, 0,\n",
       "       1, 0, 0, 0, 1, 0, 0, 0, 0, 1, 1, 0, 0, 0, 0, 0, 0, 1, 0, 0, 0, 0,\n",
       "       0, 0, 0, 0, 0, 0, 0, 1, 0, 0, 0, 1, 1, 1, 1, 0, 0, 1, 1, 0, 0, 0,\n",
       "       0, 0, 0, 0, 0, 0, 0, 0, 0, 0, 1, 1, 0, 0, 0, 0, 0, 0, 0, 1, 0, 0,\n",
       "       0, 0, 0, 0, 0, 1, 0, 1, 1, 0, 0, 0, 1, 0, 1, 0, 1, 0, 1, 0, 1, 0,\n",
       "       0, 1, 0, 0, 1, 0, 0, 0, 0, 1, 1, 0, 1, 0, 0, 0, 0, 1, 1, 0, 1, 0,\n",
       "       0, 0, 1, 1, 0, 0, 0, 0, 0, 0, 0, 0, 0, 0, 1, 0, 0, 0, 0, 1, 0, 0,\n",
       "       1, 0, 0, 0, 1, 0, 0, 0, 1, 1, 1, 0, 0, 0, 0, 0, 0, 1, 0, 0, 0, 1,\n",
       "       0, 1, 1, 1, 1, 0, 1, 1, 0, 0, 0, 0, 0, 0, 0, 1, 1, 0, 1, 0, 0, 1,\n",
       "       0, 1, 0, 0, 0, 0, 0, 1, 0, 1, 0, 1, 0, 1, 1, 0, 0, 0, 0, 1, 1, 0,\n",
       "       0, 0, 1, 0, 1, 1, 0, 0, 1, 0, 0, 1, 1, 0, 0, 1, 0, 0, 1, 0, 0, 0,\n",
       "       0, 0, 0, 0, 1, 1, 1, 0, 0, 0, 0, 0, 0, 1, 1, 0, 0, 1, 0, 0, 1, 0,\n",
       "       1, 1, 1, 0, 0, 1, 1, 1, 0, 1, 0, 1, 0, 1, 0, 0, 0, 0, 1, 0])"
      ]
     },
     "execution_count": 19,
     "metadata": {
      "tags": []
     },
     "output_type": "execute_result"
    }
   ],
   "source": [
    "y = df['Outcome'].values\n",
    "y"
   ]
  },
  {
   "cell_type": "markdown",
   "metadata": {
    "id": "d0d6lqrj3oxo"
   },
   "source": [
    "### Splitting the data into training and test sets."
   ]
  },
  {
   "cell_type": "code",
   "execution_count": 20,
   "metadata": {
    "id": "XCPx9ZiwnwZE"
   },
   "outputs": [],
   "source": [
    "from sklearn.model_selection import train_test_split"
   ]
  },
  {
   "cell_type": "code",
   "execution_count": 21,
   "metadata": {
    "id": "mTbfSt-3n-Cy"
   },
   "outputs": [],
   "source": [
    "x_train, x_test, y_train, y_test = train_test_split(x, y ,test_size = 0.2,random_state = 5932)"
   ]
  },
  {
   "cell_type": "code",
   "execution_count": 22,
   "metadata": {
    "colab": {
     "base_uri": "https://localhost:8080/"
    },
    "id": "O28u9bL2oNwz",
    "outputId": "90883252-acc9-49ac-8356-c8e8161a44be"
   },
   "outputs": [
    {
     "data": {
      "text/plain": [
       "array([[9.000e+00, 1.450e+02, 1.300e+02, 3.790e+01, 6.370e-01, 4.000e+01],\n",
       "       [3.000e+00, 1.700e+02, 2.250e+02, 3.450e+01, 3.560e-01, 3.000e+01],\n",
       "       [1.000e+00, 8.500e+01, 0.000e+00, 2.660e+01, 3.510e-01, 3.100e+01],\n",
       "       [3.000e+00, 1.250e+02, 0.000e+00, 3.160e+01, 1.510e-01, 2.400e+01],\n",
       "       [0.000e+00, 1.140e+02, 2.850e+02, 4.420e+01, 1.670e-01, 2.700e+01],\n",
       "       [0.000e+00, 1.070e+02, 0.000e+00, 2.640e+01, 1.330e-01, 2.300e+01],\n",
       "       [0.000e+00, 1.290e+02, 0.000e+00, 3.120e+01, 7.030e-01, 2.900e+01],\n",
       "       [1.000e+00, 1.140e+02, 2.000e+02, 3.810e+01, 2.890e-01, 2.100e+01],\n",
       "       [4.000e+00, 1.410e+02, 0.000e+00, 2.760e+01, 2.440e-01, 4.000e+01],\n",
       "       [8.000e+00, 1.000e+02, 0.000e+00, 3.870e+01, 1.900e-01, 4.200e+01],\n",
       "       [4.000e+00, 1.830e+02, 0.000e+00, 2.840e+01, 2.120e-01, 3.600e+01],\n",
       "       [1.300e+01, 7.600e+01, 0.000e+00, 3.280e+01, 1.800e-01, 4.100e+01],\n",
       "       [0.000e+00, 1.980e+02, 2.740e+02, 4.130e+01, 5.020e-01, 2.800e+01],\n",
       "       [0.000e+00, 1.110e+02, 0.000e+00, 2.460e+01, 6.600e-01, 3.100e+01],\n",
       "       [2.000e+00, 1.290e+02, 0.000e+00, 2.800e+01, 2.840e-01, 2.700e+01],\n",
       "       [8.000e+00, 1.430e+02, 0.000e+00, 3.490e+01, 1.290e-01, 4.100e+01],\n",
       "       [1.000e+00, 9.700e+01, 0.000e+00, 2.720e+01, 1.095e+00, 2.200e+01],\n",
       "       [9.000e+00, 1.300e+02, 0.000e+00, 3.420e+01, 6.520e-01, 4.500e+01],\n",
       "       [2.000e+00, 1.120e+02, 9.400e+01, 3.410e+01, 3.150e-01, 2.600e+01],\n",
       "       [0.000e+00, 1.180e+02, 8.900e+01, 0.000e+00, 1.731e+00, 2.100e+01],\n",
       "       [1.000e+01, 9.200e+01, 0.000e+00, 2.590e+01, 1.670e-01, 3.100e+01],\n",
       "       [0.000e+00, 1.510e+02, 0.000e+00, 4.210e+01, 3.710e-01, 2.100e+01],\n",
       "       [3.000e+00, 8.200e+01, 0.000e+00, 2.110e+01, 3.890e-01, 2.500e+01],\n",
       "       [0.000e+00, 1.070e+02, 0.000e+00, 4.530e+01, 6.860e-01, 2.400e+01],\n",
       "       [6.000e+00, 1.340e+02, 3.700e+02, 4.620e+01, 2.380e-01, 4.600e+01],\n",
       "       [0.000e+00, 1.460e+02, 0.000e+00, 4.050e+01, 1.781e+00, 4.400e+01],\n",
       "       [1.200e+01, 8.400e+01, 0.000e+00, 2.970e+01, 2.970e-01, 4.600e+01],\n",
       "       [0.000e+00, 1.520e+02, 2.720e+02, 4.150e+01, 2.700e-01, 2.700e+01],\n",
       "       [6.000e+00, 8.000e+01, 0.000e+00, 3.980e+01, 1.770e-01, 2.800e+01],\n",
       "       [4.000e+00, 1.320e+02, 0.000e+00, 2.800e+01, 4.190e-01, 6.300e+01],\n",
       "       [1.000e+00, 1.280e+02, 1.830e+02, 2.750e+01, 1.150e-01, 2.200e+01],\n",
       "       [0.000e+00, 1.370e+02, 0.000e+00, 2.730e+01, 2.310e-01, 5.900e+01],\n",
       "       [3.000e+00, 1.290e+02, 1.550e+02, 3.640e+01, 9.680e-01, 3.200e+01],\n",
       "       [8.000e+00, 8.400e+01, 0.000e+00, 3.830e+01, 4.570e-01, 3.900e+01],\n",
       "       [6.000e+00, 1.230e+02, 2.300e+02, 3.360e+01, 7.330e-01, 3.400e+01],\n",
       "       [1.200e+01, 1.510e+02, 2.710e+02, 4.180e+01, 7.420e-01, 3.800e+01],\n",
       "       [1.000e+00, 1.360e+02, 2.040e+02, 3.740e+01, 3.990e-01, 2.400e+01],\n",
       "       [1.000e+00, 8.100e+01, 5.700e+01, 4.630e+01, 1.096e+00, 3.200e+01],\n",
       "       [6.000e+00, 9.900e+01, 5.400e+01, 2.690e+01, 4.970e-01, 3.200e+01],\n",
       "       [6.000e+00, 1.110e+02, 0.000e+00, 3.420e+01, 2.600e-01, 2.400e+01],\n",
       "       [4.000e+00, 1.290e+02, 2.310e+02, 2.750e+01, 5.270e-01, 3.100e+01],\n",
       "       [1.000e+00, 8.800e+01, 4.400e+01, 2.990e+01, 4.220e-01, 2.300e+01],\n",
       "       [6.000e+00, 9.200e+01, 0.000e+00, 1.990e+01, 1.880e-01, 2.800e+01],\n",
       "       [5.000e+00, 1.210e+02, 1.120e+02, 2.620e+01, 2.450e-01, 3.000e+01],\n",
       "       [1.000e+00, 1.150e+02, 9.600e+01, 3.460e+01, 5.290e-01, 3.200e+01],\n",
       "       [1.000e+00, 1.190e+02, 2.200e+02, 4.560e+01, 8.080e-01, 2.900e+01],\n",
       "       [3.000e+00, 1.080e+02, 0.000e+00, 2.600e+01, 2.230e-01, 2.500e+01],\n",
       "       [7.000e+00, 1.050e+02, 0.000e+00, 0.000e+00, 3.050e-01, 2.400e+01],\n",
       "       [5.000e+00, 9.900e+01, 0.000e+00, 2.900e+01, 2.030e-01, 3.200e+01],\n",
       "       [1.000e+00, 1.680e+02, 0.000e+00, 3.500e+01, 9.050e-01, 5.200e+01],\n",
       "       [1.000e+00, 8.000e+01, 6.000e+01, 3.000e+01, 5.270e-01, 2.200e+01],\n",
       "       [4.000e+00, 1.450e+02, 0.000e+00, 3.250e+01, 2.350e-01, 7.000e+01],\n",
       "       [0.000e+00, 1.310e+02, 0.000e+00, 4.320e+01, 2.700e-01, 2.600e+01],\n",
       "       [5.000e+00, 1.390e+02, 1.600e+02, 3.160e+01, 3.610e-01, 2.500e+01],\n",
       "       [1.500e+01, 1.360e+02, 1.100e+02, 3.710e+01, 1.530e-01, 4.300e+01],\n",
       "       [2.000e+00, 1.090e+02, 0.000e+00, 4.270e+01, 8.450e-01, 5.400e+01],\n",
       "       [5.000e+00, 9.500e+01, 0.000e+00, 3.770e+01, 3.700e-01, 2.700e+01],\n",
       "       [1.200e+01, 8.800e+01, 5.400e+01, 3.530e+01, 3.780e-01, 4.800e+01],\n",
       "       [3.000e+00, 9.900e+01, 8.600e+01, 2.560e+01, 1.540e-01, 2.400e+01],\n",
       "       [1.000e+00, 1.080e+02, 1.780e+02, 3.550e+01, 4.150e-01, 2.400e+01],\n",
       "       [1.000e+00, 9.000e+01, 5.900e+01, 2.510e+01, 1.268e+00, 2.500e+01],\n",
       "       [2.000e+00, 1.290e+02, 2.050e+02, 3.320e+01, 5.910e-01, 2.500e+01],\n",
       "       [7.000e+00, 1.420e+02, 1.900e+02, 2.880e+01, 6.870e-01, 6.100e+01],\n",
       "       [2.000e+00, 9.200e+01, 0.000e+00, 2.420e+01, 1.698e+00, 2.800e+01],\n",
       "       [2.000e+00, 1.200e+02, 1.050e+02, 3.970e+01, 2.150e-01, 2.900e+01],\n",
       "       [2.000e+00, 1.220e+02, 1.580e+02, 3.620e+01, 8.160e-01, 2.800e+01],\n",
       "       [7.000e+00, 1.060e+02, 0.000e+00, 2.650e+01, 2.960e-01, 2.900e+01],\n",
       "       [5.000e+00, 1.140e+02, 0.000e+00, 2.490e+01, 7.440e-01, 5.700e+01],\n",
       "       [6.000e+00, 8.000e+01, 0.000e+00, 2.620e+01, 3.130e-01, 4.100e+01],\n",
       "       [1.000e+01, 1.220e+02, 0.000e+00, 3.120e+01, 2.580e-01, 4.100e+01],\n",
       "       [6.000e+00, 9.200e+01, 1.260e+02, 3.200e+01, 8.500e-02, 4.600e+01],\n",
       "       [0.000e+00, 1.050e+02, 0.000e+00, 2.000e+01, 2.360e-01, 2.200e+01],\n",
       "       [1.000e+00, 1.300e+02, 1.050e+02, 2.590e+01, 4.720e-01, 2.200e+01],\n",
       "       [1.000e+00, 8.100e+01, 4.000e+01, 2.660e+01, 2.830e-01, 2.400e+01],\n",
       "       [3.000e+00, 1.280e+02, 1.900e+02, 3.240e+01, 5.490e-01, 2.700e+01],\n",
       "       [2.000e+00, 9.200e+01, 0.000e+00, 3.160e+01, 1.300e-01, 2.400e+01],\n",
       "       [1.000e+00, 1.110e+02, 1.820e+02, 2.400e+01, 1.380e-01, 2.300e+01],\n",
       "       [3.000e+00, 1.160e+02, 0.000e+00, 2.350e+01, 1.870e-01, 2.300e+01],\n",
       "       [6.000e+00, 8.700e+01, 0.000e+00, 2.320e+01, 8.400e-02, 3.200e+01],\n",
       "       [3.000e+00, 1.580e+02, 3.870e+02, 3.120e+01, 2.950e-01, 2.400e+01],\n",
       "       [9.000e+00, 1.200e+02, 5.600e+01, 2.080e+01, 7.330e-01, 4.800e+01],\n",
       "       [1.000e+00, 9.500e+01, 7.300e+01, 2.590e+01, 6.730e-01, 3.600e+01],\n",
       "       [1.000e+00, 8.700e+01, 3.200e+01, 3.460e+01, 1.010e-01, 2.200e+01],\n",
       "       [7.000e+00, 1.870e+02, 3.920e+02, 3.390e+01, 8.260e-01, 3.400e+01],\n",
       "       [0.000e+00, 9.300e+01, 9.200e+01, 2.870e+01, 5.320e-01, 2.200e+01],\n",
       "       [4.000e+00, 1.440e+02, 1.400e+02, 2.950e+01, 2.870e-01, 3.700e+01],\n",
       "       [8.000e+00, 1.550e+02, 4.950e+02, 3.400e+01, 5.430e-01, 4.600e+01],\n",
       "       [9.000e+00, 7.200e+01, 0.000e+00, 3.160e+01, 2.800e-01, 3.800e+01],\n",
       "       [3.000e+00, 1.710e+02, 1.350e+02, 3.330e+01, 1.990e-01, 2.400e+01],\n",
       "       [5.000e+00, 1.430e+02, 0.000e+00, 4.500e+01, 1.900e-01, 4.700e+01],\n",
       "       [7.000e+00, 9.700e+01, 9.100e+01, 4.090e+01, 8.710e-01, 3.200e+01],\n",
       "       [2.000e+00, 1.580e+02, 0.000e+00, 3.160e+01, 8.050e-01, 6.600e+01],\n",
       "       [1.000e+00, 1.010e+02, 3.600e+01, 2.420e+01, 5.260e-01, 2.600e+01],\n",
       "       [0.000e+00, 9.100e+01, 2.100e+02, 3.990e+01, 3.810e-01, 2.500e+01],\n",
       "       [1.000e+00, 0.000e+00, 0.000e+00, 3.200e+01, 3.890e-01, 2.200e+01],\n",
       "       [0.000e+00, 1.790e+02, 0.000e+00, 4.410e+01, 6.860e-01, 2.300e+01],\n",
       "       [8.000e+00, 1.760e+02, 3.000e+02, 3.370e+01, 4.670e-01, 5.800e+01],\n",
       "       [1.000e+00, 9.100e+01, 1.000e+02, 2.520e+01, 2.340e-01, 2.300e+01],\n",
       "       [4.000e+00, 1.120e+02, 0.000e+00, 3.940e+01, 2.360e-01, 3.800e+01],\n",
       "       [0.000e+00, 1.650e+02, 2.550e+02, 4.790e+01, 2.590e-01, 2.600e+01],\n",
       "       [2.000e+00, 1.060e+02, 1.190e+02, 3.050e+01, 1.400e+00, 3.400e+01],\n",
       "       [0.000e+00, 1.010e+02, 0.000e+00, 3.570e+01, 1.980e-01, 2.600e+01],\n",
       "       [2.000e+00, 1.080e+02, 5.600e+01, 2.520e+01, 1.280e-01, 2.100e+01],\n",
       "       [1.700e+01, 1.630e+02, 1.140e+02, 4.090e+01, 8.170e-01, 4.700e+01],\n",
       "       [2.000e+00, 1.440e+02, 1.350e+02, 3.160e+01, 4.220e-01, 2.500e+01],\n",
       "       [5.000e+00, 1.660e+02, 0.000e+00, 4.570e+01, 3.400e-01, 2.700e+01],\n",
       "       [4.000e+00, 1.460e+02, 1.000e+02, 2.890e+01, 1.890e-01, 2.700e+01],\n",
       "       [7.000e+00, 1.960e+02, 0.000e+00, 3.980e+01, 4.510e-01, 4.100e+01],\n",
       "       [0.000e+00, 9.500e+01, 9.200e+01, 3.650e+01, 3.300e-01, 2.600e+01],\n",
       "       [5.000e+00, 1.160e+02, 0.000e+00, 2.560e+01, 2.010e-01, 3.000e+01],\n",
       "       [3.000e+00, 7.400e+01, 4.500e+01, 2.970e+01, 2.930e-01, 2.300e+01],\n",
       "       [8.000e+00, 1.200e+02, 0.000e+00, 2.500e+01, 4.090e-01, 6.400e+01],\n",
       "       [2.000e+00, 1.000e+02, 1.050e+02, 3.780e+01, 4.980e-01, 2.400e+01],\n",
       "       [0.000e+00, 9.400e+01, 0.000e+00, 0.000e+00, 2.560e-01, 2.500e+01],\n",
       "       [1.000e+01, 9.000e+01, 0.000e+00, 3.490e+01, 8.250e-01, 5.600e+01],\n",
       "       [5.000e+00, 1.030e+02, 0.000e+00, 3.920e+01, 3.050e-01, 6.500e+01],\n",
       "       [1.000e+00, 1.190e+02, 5.000e+01, 2.230e+01, 2.050e-01, 2.400e+01],\n",
       "       [1.000e+00, 8.200e+01, 9.500e+01, 2.120e+01, 4.150e-01, 2.300e+01],\n",
       "       [9.000e+00, 1.650e+02, 0.000e+00, 3.040e+01, 3.020e-01, 4.900e+01],\n",
       "       [8.000e+00, 7.400e+01, 4.900e+01, 3.530e+01, 7.050e-01, 3.900e+01],\n",
       "       [1.000e+00, 1.380e+02, 0.000e+00, 4.010e+01, 2.360e-01, 2.800e+01],\n",
       "       [2.000e+00, 1.140e+02, 0.000e+00, 2.870e+01, 9.200e-02, 2.500e+01],\n",
       "       [1.000e+00, 8.000e+01, 0.000e+00, 1.910e+01, 2.580e-01, 2.100e+01],\n",
       "       [1.000e+00, 1.130e+02, 0.000e+00, 3.360e+01, 5.430e-01, 2.100e+01],\n",
       "       [7.000e+00, 1.140e+02, 0.000e+00, 2.740e+01, 7.320e-01, 3.400e+01],\n",
       "       [2.000e+00, 1.080e+02, 6.300e+01, 3.250e+01, 3.180e-01, 2.200e+01],\n",
       "       [6.000e+00, 1.250e+02, 1.200e+02, 3.000e+01, 4.640e-01, 3.200e+01],\n",
       "       [0.000e+00, 1.310e+02, 0.000e+00, 3.430e+01, 1.960e-01, 2.200e+01],\n",
       "       [2.000e+00, 1.270e+02, 3.350e+02, 3.440e+01, 1.760e-01, 2.200e+01],\n",
       "       [4.000e+00, 8.300e+01, 0.000e+00, 2.930e+01, 3.170e-01, 3.400e+01],\n",
       "       [1.000e+00, 1.960e+02, 2.490e+02, 3.650e+01, 8.750e-01, 2.900e+01],\n",
       "       [3.000e+00, 8.400e+01, 0.000e+00, 3.720e+01, 2.670e-01, 2.800e+01],\n",
       "       [5.000e+00, 1.390e+02, 1.400e+02, 2.860e+01, 4.110e-01, 2.600e+01],\n",
       "       [2.000e+00, 9.100e+01, 0.000e+00, 2.730e+01, 5.250e-01, 2.200e+01],\n",
       "       [3.000e+00, 1.020e+02, 9.400e+01, 3.080e+01, 4.000e-01, 2.600e+01],\n",
       "       [2.000e+00, 8.100e+01, 0.000e+00, 2.770e+01, 2.900e-01, 2.500e+01],\n",
       "       [0.000e+00, 1.620e+02, 0.000e+00, 4.960e+01, 3.640e-01, 2.600e+01],\n",
       "       [0.000e+00, 1.040e+02, 1.160e+02, 2.780e+01, 4.540e-01, 2.300e+01],\n",
       "       [1.000e+01, 1.010e+02, 1.800e+02, 3.290e+01, 1.710e-01, 6.300e+01],\n",
       "       [1.000e+00, 9.500e+01, 5.800e+01, 2.390e+01, 2.600e-01, 2.200e+01],\n",
       "       [1.000e+01, 6.800e+01, 4.900e+01, 3.550e+01, 2.850e-01, 4.700e+01],\n",
       "       [7.000e+00, 1.290e+02, 1.250e+02, 3.850e+01, 4.390e-01, 4.300e+01],\n",
       "       [1.000e+00, 1.070e+02, 8.200e+01, 3.080e+01, 8.210e-01, 2.400e+01],\n",
       "       [3.000e+00, 1.410e+02, 0.000e+00, 3.000e+01, 7.610e-01, 2.700e+01],\n",
       "       [8.000e+00, 6.500e+01, 0.000e+00, 3.200e+01, 6.000e-01, 4.200e+01],\n",
       "       [4.000e+00, 1.230e+02, 1.760e+02, 3.200e+01, 4.430e-01, 3.400e+01],\n",
       "       [1.000e+01, 1.610e+02, 1.320e+02, 2.550e+01, 3.260e-01, 4.700e+01],\n",
       "       [2.000e+00, 9.400e+01, 7.600e+01, 2.600e+01, 5.610e-01, 2.100e+01],\n",
       "       [2.000e+00, 1.210e+02, 9.500e+01, 3.910e+01, 8.860e-01, 2.300e+01],\n",
       "       [6.000e+00, 1.540e+02, 1.400e+02, 4.610e+01, 5.710e-01, 2.700e+01],\n",
       "       [7.000e+00, 6.200e+01, 0.000e+00, 3.260e+01, 3.910e-01, 4.100e+01],\n",
       "       [1.000e+00, 1.440e+02, 1.800e+02, 4.610e+01, 3.350e-01, 4.600e+01],\n",
       "       [0.000e+00, 1.410e+02, 0.000e+00, 3.240e+01, 4.330e-01, 2.200e+01],\n",
       "       [6.000e+00, 1.290e+02, 3.260e+02, 1.960e+01, 5.820e-01, 6.000e+01]])"
      ]
     },
     "execution_count": 22,
     "metadata": {
      "tags": []
     },
     "output_type": "execute_result"
    }
   ],
   "source": [
    "x_test"
   ]
  },
  {
   "cell_type": "markdown",
   "metadata": {
    "id": "R4UQvFuw4HRD"
   },
   "source": [
    "### Using Feature Scalaing to scale the data"
   ]
  },
  {
   "cell_type": "code",
   "execution_count": 23,
   "metadata": {
    "id": "pgMLkrRdokHs"
   },
   "outputs": [],
   "source": [
    "from sklearn.preprocessing import StandardScaler"
   ]
  },
  {
   "cell_type": "code",
   "execution_count": 24,
   "metadata": {
    "id": "h4e0VY34otwK"
   },
   "outputs": [],
   "source": [
    "sc = StandardScaler()"
   ]
  },
  {
   "cell_type": "code",
   "execution_count": 25,
   "metadata": {
    "id": "RZoXHBgfozZx"
   },
   "outputs": [],
   "source": [
    "x_train = sc.fit_transform(x_train)\n",
    "x_test = sc.fit_transform(x_test)"
   ]
  },
  {
   "cell_type": "markdown",
   "metadata": {
    "id": "LXU1ubdKf9Fr"
   },
   "source": [
    "After Scaling, the x_test is"
   ]
  },
  {
   "cell_type": "code",
   "execution_count": 26,
   "metadata": {
    "colab": {
     "base_uri": "https://localhost:8080/"
    },
    "id": "ISvS7ubcpELS",
    "outputId": "220ef56e-d12e-490c-9e3f-9fb7370eaf59"
   },
   "outputs": [
    {
     "data": {
      "text/plain": [
       "array([[ 1.47186428e+00,  8.93819109e-01,  4.92329399e-01,\n",
       "         7.45059388e-01,  6.04697673e-01,  6.09665434e-01],\n",
       "       [-2.30266626e-01,  1.70408602e+00,  1.42460731e+00,\n",
       "         3.22355850e-01, -3.06243186e-01, -2.43866174e-01],\n",
       "       [-7.97643593e-01, -1.05082148e+00, -7.83419315e-01,\n",
       "        -6.59808255e-01, -3.22452098e-01, -1.58513013e-01],\n",
       "       [-2.30266626e-01,  2.45605580e-01, -7.83419315e-01,\n",
       "        -3.81854037e-02, -9.70808581e-01, -7.55985138e-01],\n",
       "       [-1.08133208e+00, -1.10911860e-01,  2.01341440e+00,\n",
       "         1.52830418e+00, -9.18940062e-01, -4.99925656e-01],\n",
       "       [-1.08133208e+00, -3.37786595e-01, -7.83419315e-01,\n",
       "        -6.84673169e-01, -1.02916066e+00, -8.41338299e-01],\n",
       "       [-1.08133208e+00,  3.75248286e-01, -7.83419315e-01,\n",
       "        -8.79152318e-02,  8.18655313e-01, -3.29219334e-01],\n",
       "       [-7.97643593e-01, -1.10911860e-01,  1.17927101e+00,\n",
       "         7.69924303e-01, -5.23442607e-01, -1.01204462e+00],\n",
       "       [ 5.34218573e-02,  7.64176403e-01, -7.83419315e-01,\n",
       "        -5.35483684e-01, -6.69322816e-01,  6.09665434e-01],\n",
       "       [ 1.18817579e+00, -5.64661330e-01, -7.83419315e-01,\n",
       "         8.44519045e-01, -8.44379067e-01,  7.80371756e-01],\n",
       "       [ 5.34218573e-02,  2.12542481e+00, -7.83419315e-01,\n",
       "        -4.36024028e-01, -7.73059853e-01,  2.68252791e-01],\n",
       "       [ 2.60661821e+00, -1.34251756e+00, -7.83419315e-01,\n",
       "         1.11004081e-01, -8.76796891e-01,  6.95018595e-01],\n",
       "       [-1.08133208e+00,  2.61158496e+00,  1.90546644e+00,\n",
       "         1.16776293e+00,  1.67057047e-01, -4.14572495e-01],\n",
       "       [-1.08133208e+00, -2.08143889e-01, -7.83419315e-01,\n",
       "        -9.08457395e-01,  6.79258669e-01, -1.58513013e-01],\n",
       "       [-5.13955110e-01,  3.75248286e-01, -7.83419315e-01,\n",
       "        -4.85753856e-01, -5.39651520e-01, -4.99925656e-01],\n",
       "       [ 1.18817579e+00,  8.28997756e-01, -7.83419315e-01,\n",
       "         3.72085678e-01, -1.04212779e+00,  6.95018595e-01],\n",
       "       [-7.97643593e-01, -6.61893359e-01, -7.83419315e-01,\n",
       "        -5.85213513e-01,  2.08943402e+00, -9.26691460e-01],\n",
       "       [ 1.47186428e+00,  4.07658962e-01, -7.83419315e-01,\n",
       "         2.85058479e-01,  6.53324409e-01,  1.03643124e+00],\n",
       "       [-5.13955110e-01, -1.75733213e-01,  1.39045140e-01,\n",
       "         2.72626022e-01, -4.39156265e-01, -5.85278817e-01],\n",
       "       [-1.08133208e+00,  1.87308455e-02,  8.99778813e-02,\n",
       "        -3.96684182e+00,  4.15120764e+00, -1.01204462e+00],\n",
       "       [ 1.75555276e+00, -8.23946741e-01, -7.83419315e-01,\n",
       "        -7.46835454e-01, -9.18940062e-01, -1.58513013e-01],\n",
       "       [-1.08133208e+00,  1.08828317e+00, -7.83419315e-01,\n",
       "         1.26722258e+00, -2.57616449e-01, -1.01204462e+00],\n",
       "       [-2.30266626e-01, -1.14805351e+00, -7.83419315e-01,\n",
       "        -1.34359339e+00, -1.99264366e-01, -6.70631978e-01],\n",
       "       [-1.08133208e+00, -3.37786595e-01, -7.83419315e-01,\n",
       "         1.66506121e+00,  7.63545012e-01, -7.55985138e-01],\n",
       "       [ 6.20798824e-01,  5.37301668e-01,  2.84755779e+00,\n",
       "         1.77695332e+00, -6.88773511e-01,  1.12178440e+00],\n",
       "       [-1.08133208e+00,  9.26229785e-01, -7.83419315e-01,\n",
       "         1.06830327e+00,  4.31329676e+00,  9.51078077e-01],\n",
       "       [ 2.32292973e+00, -1.08323215e+00, -7.83419315e-01,\n",
       "        -2.74402087e-01, -4.97508348e-01,  1.12178440e+00],\n",
       "       [-1.08133208e+00,  1.12069384e+00,  1.88583953e+00,\n",
       "         1.19262784e+00, -5.85036473e-01, -4.99925656e-01],\n",
       "       [ 6.20798824e-01, -1.21287486e+00, -7.83419315e-01,\n",
       "         9.81276072e-01, -8.86522238e-01, -4.14572495e-01],\n",
       "       [ 5.34218573e-02,  4.72480315e-01, -7.83419315e-01,\n",
       "        -4.85753856e-01, -1.02010893e-01,  2.57278813e+00],\n",
       "       [-7.97643593e-01,  3.42837610e-01,  1.01244234e+00,\n",
       "        -5.47916141e-01, -1.08751275e+00, -9.26691460e-01],\n",
       "       [-1.08133208e+00,  6.34533697e-01, -7.83419315e-01,\n",
       "        -5.72781056e-01, -7.11465988e-01,  2.23137549e+00],\n",
       "       [-2.30266626e-01,  3.75248286e-01,  7.37665690e-01,\n",
       "         5.58572533e-01,  1.67772765e+00, -7.31598521e-02],\n",
       "       [ 1.18817579e+00, -1.08323215e+00, -7.83419315e-01,\n",
       "         7.94789217e-01,  2.11768384e-02,  5.24312273e-01],\n",
       "       [ 6.20798824e-01,  1.80784228e-01,  1.47367456e+00,\n",
       "         2.10463737e-01,  9.15908785e-01,  9.75464695e-02],\n",
       "       [ 2.32292973e+00,  1.08828317e+00,  1.87602608e+00,\n",
       "         1.22992521e+00,  9.45084827e-01,  4.38959113e-01],\n",
       "       [-7.97643593e-01,  6.02123021e-01,  1.21852482e+00,\n",
       "         6.82897103e-01, -1.66846542e-01, -7.55985138e-01],\n",
       "       [-7.97643593e-01, -1.18046418e+00, -2.24052571e-01,\n",
       "         1.78938578e+00,  2.09267580e+00, -7.31598521e-02],\n",
       "       [ 6.20798824e-01, -5.97072006e-01, -2.53492926e-01,\n",
       "        -6.22510884e-01,  1.50848135e-01, -7.31598521e-02],\n",
       "       [ 6.20798824e-01, -2.08143889e-01, -7.83419315e-01,\n",
       "         2.85058479e-01, -6.17454298e-01, -7.55985138e-01],\n",
       "       [ 5.34218573e-02,  3.75248286e-01,  1.48348802e+00,\n",
       "        -5.47916141e-01,  2.48101607e-01, -1.58513013e-01],\n",
       "       [-7.97643593e-01, -9.53589447e-01, -3.51627443e-01,\n",
       "        -2.49537173e-01, -9.22855462e-02, -8.41338299e-01],\n",
       "       [ 6.20798824e-01, -8.23946741e-01, -7.83419315e-01,\n",
       "        -1.49278287e+00, -8.50862631e-01, -4.14572495e-01],\n",
       "       [ 3.37110341e-01,  1.15962875e-01,  3.15687269e-01,\n",
       "        -7.09538083e-01, -6.66081034e-01, -2.43866174e-01],\n",
       "       [-7.97643593e-01, -7.85011838e-02,  1.58672043e-01,\n",
       "         3.34788307e-01,  2.54585172e-01, -7.31598521e-02],\n",
       "       [-7.97643593e-01,  5.11415219e-02,  1.37554005e+00,\n",
       "         1.70235858e+00,  1.15904247e+00, -3.29219334e-01],\n",
       "       [-2.30266626e-01, -3.05375919e-01, -7.83419315e-01,\n",
       "        -7.34402997e-01, -7.37400247e-01, -6.70631978e-01],\n",
       "       [ 9.04487308e-01, -4.02607948e-01, -7.83419315e-01,\n",
       "        -3.96684182e+00, -4.71574089e-01, -7.55985138e-01],\n",
       "       [ 3.37110341e-01, -5.97072006e-01, -7.83419315e-01,\n",
       "        -3.61429286e-01, -8.02235895e-01, -7.31598521e-02],\n",
       "       [-7.97643593e-01,  1.63926467e+00, -7.83419315e-01,\n",
       "         3.84518135e-01,  1.47349536e+00,  1.63390336e+00],\n",
       "       [-7.97643593e-01, -1.21287486e+00, -1.94612216e-01,\n",
       "        -2.37104716e-01,  2.48101607e-01, -9.26691460e-01],\n",
       "       [ 5.34218573e-02,  8.93819109e-01, -7.83419315e-01,\n",
       "         7.37067095e-02, -6.98498858e-01,  3.17026026e+00],\n",
       "       [-1.08133208e+00,  4.40069639e-01, -7.83419315e-01,\n",
       "         1.40397961e+00, -5.85036473e-01, -5.85278817e-01],\n",
       "       [ 3.37110341e-01,  6.99355050e-01,  7.86732948e-01,\n",
       "        -3.81854037e-02, -2.90034274e-01, -6.70631978e-01],\n",
       "       [ 3.17399518e+00,  6.02123021e-01,  2.96060366e-01,\n",
       "         6.45599732e-01, -9.64325016e-01,  8.65724917e-01],\n",
       "       [-5.13955110e-01, -2.72965242e-01, -7.83419315e-01,\n",
       "         1.34181733e+00,  1.27898842e+00,  1.80460969e+00],\n",
       "       [ 3.37110341e-01, -7.26714712e-01, -7.83419315e-01,\n",
       "         7.20194474e-01, -2.60858232e-01, -4.99925656e-01],\n",
       "       [ 2.32292973e+00, -9.53589447e-01, -2.53492926e-01,\n",
       "         4.21815506e-01, -2.34923972e-01,  1.29249072e+00],\n",
       "       [-2.30266626e-01, -5.97072006e-01,  6.05375264e-02,\n",
       "        -7.84132825e-01, -9.61083234e-01, -7.55985138e-01],\n",
       "       [-7.97643593e-01, -3.05375919e-01,  9.63375078e-01,\n",
       "         4.46680420e-01, -1.14978023e-01, -7.55985138e-01],\n",
       "       [-7.97643593e-01, -8.88768094e-01, -2.04425668e-01,\n",
       "        -8.46295110e-01,  2.65026238e+00, -6.70631978e-01],\n",
       "       [-5.13955110e-01,  3.75248286e-01,  1.22833827e+00,\n",
       "         1.60733909e-01,  4.55575682e-01, -6.70631978e-01],\n",
       "       [ 9.04487308e-01,  7.96587079e-01,  1.08113650e+00,\n",
       "        -3.86294200e-01,  7.66786794e-01,  2.40208181e+00],\n",
       "       [-5.13955110e-01, -8.23946741e-01, -7.83419315e-01,\n",
       "        -9.58187223e-01,  4.04422882e+00, -4.14572495e-01],\n",
       "       [-5.13955110e-01,  8.35521983e-02,  2.46993108e-01,\n",
       "         9.68843615e-01, -7.63334506e-01, -3.29219334e-01],\n",
       "       [-5.13955110e-01,  1.48373551e-01,  7.67106045e-01,\n",
       "         5.33707619e-01,  1.18497673e+00, -4.14572495e-01],\n",
       "       [ 9.04487308e-01, -3.70197271e-01, -7.83419315e-01,\n",
       "        -6.72240712e-01, -5.00750131e-01, -3.29219334e-01],\n",
       "       [ 3.37110341e-01, -1.10911860e-01, -7.83419315e-01,\n",
       "        -8.71160024e-01,  9.51568392e-01,  2.06066917e+00],\n",
       "       [ 6.20798824e-01, -1.21287486e+00, -7.83419315e-01,\n",
       "        -7.09538083e-01, -4.45639829e-01,  6.95018595e-01],\n",
       "       [ 1.75555276e+00,  1.48373551e-01, -7.83419315e-01,\n",
       "        -8.79152318e-02, -6.23937862e-01,  6.95018595e-01],\n",
       "       [ 6.20798824e-01, -8.23946741e-01,  4.53075592e-01,\n",
       "         1.15444244e-02, -1.18476622e+00,  1.12178440e+00],\n",
       "       [-1.08133208e+00, -4.02607948e-01, -7.83419315e-01,\n",
       "        -1.48035042e+00, -6.95257075e-01, -9.26691460e-01],\n",
       "       [-7.97643593e-01,  4.07658962e-01,  2.46993108e-01,\n",
       "        -7.46835454e-01,  6.98035746e-02, -9.26691460e-01],\n",
       "       [-7.97643593e-01, -1.18046418e+00, -3.90881249e-01,\n",
       "        -6.59808255e-01, -5.42893302e-01, -7.55985138e-01],\n",
       "       [-2.30266626e-01,  3.42837610e-01,  1.08113650e+00,\n",
       "         6.12742524e-02,  3.19420821e-01, -4.99925656e-01],\n",
       "       [-5.13955110e-01, -8.23946741e-01, -7.83419315e-01,\n",
       "        -3.81854037e-02, -1.03888601e+00, -7.55985138e-01],\n",
       "       [-7.97643593e-01, -2.08143889e-01,  1.00262888e+00,\n",
       "        -9.83052137e-01, -1.01295175e+00, -8.41338299e-01],\n",
       "       [-2.30266626e-01, -4.60905074e-02, -7.83419315e-01,\n",
       "        -1.04521442e+00, -8.54104414e-01, -8.41338299e-01],\n",
       "       [ 6.20798824e-01, -9.86000123e-01, -7.83419315e-01,\n",
       "        -1.08251179e+00, -1.18800800e+00, -7.31598521e-02],\n",
       "       [-2.30266626e-01,  1.31515790e+00,  3.01438647e+00,\n",
       "        -8.79152318e-02, -5.03991913e-01, -7.55985138e-01],\n",
       "       [ 1.47186428e+00,  8.35521983e-02, -2.33866023e-01,\n",
       "        -1.38089076e+00,  9.15908785e-01,  1.29249072e+00],\n",
       "       [-7.97643593e-01, -7.26714712e-01, -6.70373450e-02,\n",
       "        -7.46835454e-01,  7.21401840e-01,  2.68252791e-01],\n",
       "       [-7.97643593e-01, -9.86000123e-01, -4.69388863e-01,\n",
       "         3.34788307e-01, -1.13289770e+00, -9.26691460e-01],\n",
       "       [ 9.04487308e-01,  2.25506752e+00,  3.06345373e+00,\n",
       "         2.47761108e-01,  1.21739455e+00,  9.75464695e-02],\n",
       "       [-1.08133208e+00, -7.91536065e-01,  1.19418236e-01,\n",
       "        -3.98726657e-01,  2.64310520e-01, -9.26691460e-01],\n",
       "       [ 5.34218573e-02,  8.61408432e-01,  5.90463915e-01,\n",
       "        -2.99267001e-01, -5.29926172e-01,  3.53605952e-01],\n",
       "       [ 1.18817579e+00,  1.21792587e+00,  4.07423925e+00,\n",
       "         2.60193565e-01,  2.99970126e-01,  1.12178440e+00],\n",
       "       [ 1.47186428e+00, -1.47216027e+00, -7.83419315e-01,\n",
       "        -3.81854037e-02, -5.52618649e-01,  4.38959113e-01],\n",
       "       [-2.30266626e-01,  1.73649670e+00,  5.41396657e-01,\n",
       "         1.73166366e-01, -8.15203025e-01, -7.55985138e-01],\n",
       "       [ 3.37110341e-01,  8.28997756e-01, -7.83419315e-01,\n",
       "         1.62776384e+00, -8.44379067e-01,  1.20713756e+00],\n",
       "       [ 9.04487308e-01, -6.61893359e-01,  1.09604785e-01,\n",
       "         1.11803310e+00,  1.36327476e+00, -7.31598521e-02],\n",
       "       [-5.13955110e-01,  1.31515790e+00, -7.83419315e-01,\n",
       "        -3.81854037e-02,  1.14931712e+00,  2.82884761e+00],\n",
       "       [-7.97643593e-01, -5.32250654e-01, -4.30135056e-01,\n",
       "        -9.58187223e-01,  2.44859825e-01, -5.85278817e-01],\n",
       "       [-1.08133208e+00, -8.56357418e-01,  1.27740553e+00,\n",
       "         9.93708529e-01, -2.25198625e-01, -6.70631978e-01],\n",
       "       [-7.97643593e-01, -3.80572897e+00, -7.83419315e-01,\n",
       "         1.15444244e-02, -1.99264366e-01, -9.26691460e-01],\n",
       "       [-1.08133208e+00,  1.99578211e+00, -7.83419315e-01,\n",
       "         1.51587172e+00,  7.63545012e-01, -8.41338299e-01],\n",
       "       [ 1.18817579e+00,  1.89855008e+00,  2.16061618e+00,\n",
       "         2.22896194e-01,  5.35946625e-02,  2.14602233e+00],\n",
       "       [-7.97643593e-01, -8.56357418e-01,  1.97925849e-01,\n",
       "        -8.33862653e-01, -7.01740640e-01, -8.41338299e-01],\n",
       "       [ 5.34218573e-02, -1.75733213e-01, -7.83419315e-01,\n",
       "         9.31546244e-01, -6.95257075e-01,  4.38959113e-01],\n",
       "       [-1.08133208e+00,  1.54203264e+00,  1.71901085e+00,\n",
       "         1.98830509e+00, -6.20696080e-01, -5.85278817e-01],\n",
       "       [-5.13955110e-01, -3.70197271e-01,  3.84381431e-01,\n",
       "        -1.74942431e-01,  3.07817766e+00,  9.75464695e-02],\n",
       "       [-1.08133208e+00, -5.32250654e-01, -7.83419315e-01,\n",
       "         4.71545334e-01, -8.18444807e-01, -5.85278817e-01],\n",
       "       [-5.13955110e-01, -3.05375919e-01, -2.33866023e-01,\n",
       "        -8.33862653e-01, -1.04536958e+00, -1.01204462e+00],\n",
       "       [ 3.74137214e+00,  1.47721128e+00,  3.35314172e-01,\n",
       "         1.11803310e+00,  1.18821851e+00,  1.20713756e+00],\n",
       "       [-5.13955110e-01,  8.61408432e-01,  5.41396657e-01,\n",
       "        -3.81854037e-02, -9.22855462e-02, -6.70631978e-01],\n",
       "       [ 3.37110341e-01,  1.57444331e+00, -7.83419315e-01,\n",
       "         1.71479104e+00, -3.58111704e-01, -4.99925656e-01],\n",
       "       [ 5.34218573e-02,  9.26229785e-01,  1.97925849e-01,\n",
       "        -3.73861743e-01, -8.47620849e-01, -4.99925656e-01],\n",
       "       [ 9.04487308e-01,  2.54676361e+00, -7.83419315e-01,\n",
       "         9.81276072e-01,  1.72614388e-03,  6.95018595e-01],\n",
       "       [-1.08133208e+00, -7.26714712e-01,  1.19418236e-01,\n",
       "         5.71004990e-01, -3.90529528e-01, -5.85278817e-01],\n",
       "       [ 3.37110341e-01, -4.60905074e-02, -7.83419315e-01,\n",
       "        -7.84132825e-01, -8.08719460e-01, -2.43866174e-01],\n",
       "       [-2.30266626e-01, -1.40733892e+00, -3.41813991e-01,\n",
       "        -2.74402087e-01, -5.10475478e-01, -8.41338299e-01],\n",
       "       [ 1.18817579e+00,  8.35521983e-02, -7.83419315e-01,\n",
       "        -8.58727567e-01, -1.34428718e-01,  2.65814129e+00],\n",
       "       [-5.13955110e-01, -5.64661330e-01,  2.46993108e-01,\n",
       "         7.32626931e-01,  1.54089917e-01, -7.55985138e-01],\n",
       "       [-1.08133208e+00, -7.59125388e-01, -7.83419315e-01,\n",
       "        -3.96684182e+00, -6.30421427e-01, -6.70631978e-01],\n",
       "       [ 1.75555276e+00, -8.88768094e-01, -7.83419315e-01,\n",
       "         3.72085678e-01,  1.21415277e+00,  1.97531601e+00],\n",
       "       [ 3.37110341e-01, -4.67429301e-01, -7.83419315e-01,\n",
       "         9.06681330e-01, -4.71574089e-01,  2.74349445e+00],\n",
       "       [-7.97643593e-01,  5.11415219e-02, -2.92746733e-01,\n",
       "        -1.19440391e+00, -7.95752330e-01, -7.55985138e-01],\n",
       "       [-7.97643593e-01, -1.14805351e+00,  1.48858591e-01,\n",
       "        -1.33116093e+00, -1.14978023e-01, -8.41338299e-01],\n",
       "       [ 1.47186428e+00,  1.54203264e+00, -7.83419315e-01,\n",
       "        -1.87374888e-01, -4.81299436e-01,  1.37784388e+00],\n",
       "       [ 1.18817579e+00, -1.40733892e+00, -3.02560185e-01,\n",
       "         4.21815506e-01,  8.25138877e-01,  5.24312273e-01],\n",
       "       [-7.97643593e-01,  6.66944374e-01, -7.83419315e-01,\n",
       "         1.01857344e+00, -6.95257075e-01, -4.14572495e-01],\n",
       "       [-5.13955110e-01, -1.10911860e-01, -7.83419315e-01,\n",
       "        -3.98726657e-01, -1.16207374e+00, -6.70631978e-01],\n",
       "       [-7.97643593e-01, -1.21287486e+00, -7.83419315e-01,\n",
       "        -1.59224253e+00, -6.23937862e-01, -1.01204462e+00],\n",
       "       [-7.97643593e-01, -1.43322537e-01, -7.83419315e-01,\n",
       "         2.10463737e-01,  2.99970126e-01, -1.01204462e+00],\n",
       "       [ 9.04487308e-01, -1.10911860e-01, -7.83419315e-01,\n",
       "        -5.60348598e-01,  9.12667003e-01,  9.75464695e-02],\n",
       "       [-5.13955110e-01, -3.05375919e-01, -1.65171861e-01,\n",
       "         7.37067095e-02, -4.29430917e-01, -9.26691460e-01],\n",
       "       [ 6.20798824e-01,  2.45605580e-01,  3.94194882e-01,\n",
       "        -2.37104716e-01,  4.38693153e-02, -7.31598521e-02],\n",
       "       [-1.08133208e+00,  4.40069639e-01, -7.83419315e-01,\n",
       "         2.97490936e-01, -8.24928372e-01, -9.26691460e-01],\n",
       "       [-5.13955110e-01,  3.10426933e-01,  2.50408699e+00,\n",
       "         3.09923393e-01, -8.89764020e-01, -9.26691460e-01],\n",
       "       [ 5.34218573e-02, -1.11564283e+00, -7.83419315e-01,\n",
       "        -3.24131915e-01, -4.32672700e-01,  9.75464695e-02],\n",
       "       [-7.97643593e-01,  2.54676361e+00,  1.66013014e+00,\n",
       "         5.71004990e-01,  1.37624189e+00, -3.29219334e-01],\n",
       "       [-2.30266626e-01, -1.08323215e+00, -7.83419315e-01,\n",
       "         6.58032189e-01, -5.94761821e-01, -4.14572495e-01],\n",
       "       [ 3.37110341e-01,  6.99355050e-01,  5.90463915e-01,\n",
       "        -4.11159114e-01, -1.27945153e-01, -5.85278817e-01],\n",
       "       [-5.13955110e-01, -8.56357418e-01, -7.83419315e-01,\n",
       "        -5.72781056e-01,  2.41618043e-01, -9.26691460e-01],\n",
       "       [-2.30266626e-01, -4.99839977e-01,  1.39045140e-01,\n",
       "        -1.37645060e-01, -1.63604759e-01, -5.85278817e-01],\n",
       "       [-5.13955110e-01, -1.18046418e+00, -7.83419315e-01,\n",
       "        -5.23051227e-01, -5.20200825e-01, -6.70631978e-01],\n",
       "       [-1.08133208e+00,  1.44480061e+00, -7.83419315e-01,\n",
       "         2.19965686e+00, -2.80308926e-01, -5.85278817e-01],\n",
       "       [-1.08133208e+00, -4.35018624e-01,  3.54941076e-01,\n",
       "        -5.10618770e-01,  1.14514911e-02, -8.41338299e-01],\n",
       "       [ 1.75555276e+00, -5.32250654e-01,  9.83001981e-01,\n",
       "         1.23436538e-01, -9.05972933e-01,  2.57278813e+00],\n",
       "       [-7.97643593e-01, -7.26714712e-01, -2.14239120e-01,\n",
       "        -9.95484594e-01, -6.17454298e-01, -9.26691460e-01],\n",
       "       [ 1.75555276e+00, -1.60180298e+00, -3.02560185e-01,\n",
       "         4.46680420e-01, -5.36409737e-01,  1.20713756e+00],\n",
       "       [ 9.04487308e-01,  3.75248286e-01,  4.43262141e-01,\n",
       "         8.19654131e-01, -3.71752451e-02,  8.65724917e-01],\n",
       "       [-7.97643593e-01, -3.37786595e-01,  2.12837198e-02,\n",
       "        -1.37645060e-01,  1.20118564e+00, -7.55985138e-01],\n",
       "       [-2.30266626e-01,  7.64176403e-01, -7.83419315e-01,\n",
       "        -2.37104716e-01,  1.00667869e+00, -4.99925656e-01],\n",
       "       [ 1.18817579e+00, -1.69903500e+00, -7.83419315e-01,\n",
       "         1.15444244e-02,  4.84751724e-01,  7.80371756e-01],\n",
       "       [ 5.34218573e-02,  1.80784228e-01,  9.43748175e-01,\n",
       "         1.15444244e-02, -2.42081154e-02,  9.75464695e-02],\n",
       "       [ 1.75555276e+00,  1.41238993e+00,  5.11956302e-01,\n",
       "        -7.96565282e-01, -4.03496658e-01,  1.20713756e+00],\n",
       "       [-5.13955110e-01, -7.59125388e-01, -3.75969901e-02,\n",
       "        -7.34402997e-01,  3.58322210e-01, -1.01204462e+00],\n",
       "       [-5.13955110e-01,  1.15962875e-01,  1.48858591e-01,\n",
       "         8.94248873e-01,  1.41190149e+00, -8.41338299e-01],\n",
       "       [ 6.20798824e-01,  1.18551520e+00,  5.90463915e-01,\n",
       "         1.76452086e+00,  3.90740034e-01, -4.99925656e-01],\n",
       "       [ 9.04487308e-01, -1.79626703e+00, -7.83419315e-01,\n",
       "         8.61391665e-02, -1.92780801e-01,  6.95018595e-01],\n",
       "       [-7.97643593e-01,  8.61408432e-01,  9.83001981e-01,\n",
       "         1.76452086e+00, -3.74320616e-01,  1.12178440e+00],\n",
       "       [-1.08133208e+00,  7.64176403e-01, -7.83419315e-01,\n",
       "         6.12742524e-02, -5.66259396e-02, -9.26691460e-01],\n",
       "       [ 6.20798824e-01,  3.75248286e-01,  2.41576592e+00,\n",
       "        -1.53008025e+00,  4.26399640e-01,  2.31672865e+00]])"
      ]
     },
     "execution_count": 26,
     "metadata": {
      "tags": []
     },
     "output_type": "execute_result"
    }
   ],
   "source": [
    "x_test"
   ]
  },
  {
   "cell_type": "markdown",
   "metadata": {
    "id": "YxGt_54v4lzK"
   },
   "source": [
    "## Logististic Regression Model"
   ]
  },
  {
   "cell_type": "code",
   "execution_count": 27,
   "metadata": {
    "id": "PDRGcmiapXiP"
   },
   "outputs": [],
   "source": [
    "from sklearn.linear_model import LogisticRegression"
   ]
  },
  {
   "cell_type": "code",
   "execution_count": 28,
   "metadata": {
    "id": "-5glVYbdpebk"
   },
   "outputs": [],
   "source": [
    "classifier  = LogisticRegression()"
   ]
  },
  {
   "cell_type": "code",
   "execution_count": 29,
   "metadata": {
    "colab": {
     "base_uri": "https://localhost:8080/"
    },
    "id": "qs8qYum1pkte",
    "outputId": "59931256-7188-49ba-98c5-690d49cf090b"
   },
   "outputs": [
    {
     "data": {
      "text/plain": [
       "LogisticRegression(C=1.0, class_weight=None, dual=False, fit_intercept=True,\n",
       "                   intercept_scaling=1, l1_ratio=None, max_iter=100,\n",
       "                   multi_class='auto', n_jobs=None, penalty='l2',\n",
       "                   random_state=None, solver='lbfgs', tol=0.0001, verbose=0,\n",
       "                   warm_start=False)"
      ]
     },
     "execution_count": 29,
     "metadata": {
      "tags": []
     },
     "output_type": "execute_result"
    }
   ],
   "source": [
    "classifier.fit(x_train, y_train)"
   ]
  },
  {
   "cell_type": "markdown",
   "metadata": {
    "id": "zehKEugP5w5O"
   },
   "source": [
    "### Predicting the outcome using the model"
   ]
  },
  {
   "cell_type": "code",
   "execution_count": 30,
   "metadata": {
    "id": "dqx35YXwpr7_"
   },
   "outputs": [],
   "source": [
    "pred_y = classifier.predict(x_test)"
   ]
  },
  {
   "cell_type": "code",
   "execution_count": 31,
   "metadata": {
    "colab": {
     "base_uri": "https://localhost:8080/"
    },
    "id": "QHTYDEdDpzq1",
    "outputId": "08ae2d3e-b4a0-47ac-b7a9-256ba826ab80"
   },
   "outputs": [
    {
     "data": {
      "text/plain": [
       "array([1, 1, 0, 0, 0, 0, 0, 0, 0, 0, 1, 0, 1, 0, 0, 1, 0, 1, 0, 0, 0, 1,\n",
       "       0, 0, 1, 1, 0, 1, 0, 0, 0, 0, 1, 0, 0, 1, 0, 0, 0, 0, 0, 0, 0, 0,\n",
       "       0, 1, 0, 0, 0, 1, 0, 1, 1, 0, 1, 1, 0, 0, 0, 0, 0, 0, 1, 0, 0, 0,\n",
       "       0, 0, 0, 0, 0, 0, 0, 0, 0, 0, 0, 0, 0, 0, 0, 0, 0, 1, 0, 0, 1, 0,\n",
       "       1, 1, 1, 1, 0, 0, 0, 1, 1, 0, 0, 1, 0, 0, 0, 1, 0, 1, 0, 1, 0, 0,\n",
       "       0, 0, 0, 0, 1, 0, 0, 0, 1, 0, 1, 0, 0, 0, 0, 0, 0, 0, 0, 0, 1, 0,\n",
       "       0, 0, 0, 0, 1, 0, 0, 0, 0, 1, 0, 1, 0, 0, 1, 0, 1, 1, 0, 1, 0, 0])"
      ]
     },
     "execution_count": 31,
     "metadata": {
      "tags": []
     },
     "output_type": "execute_result"
    }
   ],
   "source": [
    "pred_y"
   ]
  },
  {
   "cell_type": "code",
   "execution_count": 32,
   "metadata": {
    "colab": {
     "base_uri": "https://localhost:8080/"
    },
    "id": "Ids4rQs6p4Ag",
    "outputId": "76d59019-8846-4e15-aec8-21fe71a36805"
   },
   "outputs": [
    {
     "data": {
      "text/plain": [
       "array([1, 1, 0, 0, 0, 0, 0, 0, 0, 0, 1, 0, 1, 0, 0, 1, 0, 1, 0, 0, 0, 1,\n",
       "       0, 0, 1, 0, 1, 0, 0, 0, 0, 0, 1, 0, 0, 1, 0, 0, 0, 0, 0, 0, 0, 0,\n",
       "       1, 1, 0, 0, 0, 1, 0, 1, 1, 1, 1, 0, 0, 0, 0, 0, 0, 0, 0, 0, 0, 0,\n",
       "       1, 0, 0, 0, 0, 0, 0, 0, 1, 0, 0, 0, 0, 0, 0, 0, 0, 1, 0, 0, 1, 0,\n",
       "       1, 0, 1, 1, 0, 0, 0, 1, 1, 0, 0, 0, 0, 0, 0, 1, 1, 1, 0, 1, 0, 0,\n",
       "       0, 0, 0, 0, 1, 0, 0, 0, 1, 0, 0, 0, 0, 1, 1, 0, 0, 1, 0, 0, 1, 0,\n",
       "       0, 0, 0, 0, 1, 0, 0, 0, 0, 1, 0, 1, 0, 0, 1, 0, 0, 0, 0, 1, 0, 0])"
      ]
     },
     "execution_count": 32,
     "metadata": {
      "tags": []
     },
     "output_type": "execute_result"
    }
   ],
   "source": [
    "y_test"
   ]
  },
  {
   "cell_type": "markdown",
   "metadata": {
    "id": "gRLvVgcw4zpQ"
   },
   "source": [
    "### Checking the Accuracy of the model."
   ]
  },
  {
   "cell_type": "code",
   "execution_count": 33,
   "metadata": {
    "id": "WHZRstzxp_uu"
   },
   "outputs": [],
   "source": [
    "from sklearn.metrics import accuracy_score"
   ]
  },
  {
   "cell_type": "code",
   "execution_count": 34,
   "metadata": {
    "colab": {
     "base_uri": "https://localhost:8080/"
    },
    "id": "VVEJkIPsqGVU",
    "outputId": "4592e805-482e-4542-b73a-e9f3597b7195"
   },
   "outputs": [
    {
     "data": {
      "text/plain": [
       "0.8831168831168831"
      ]
     },
     "execution_count": 34,
     "metadata": {
      "tags": []
     },
     "output_type": "execute_result"
    }
   ],
   "source": [
    "accuracy_score(y_test, pred_y)"
   ]
  },
  {
   "cell_type": "markdown",
   "metadata": {
    "id": "iAKnRq7B5qHh"
   },
   "source": [
    "### Checking the Accuracy by using Confusion Matrix"
   ]
  },
  {
   "cell_type": "code",
   "execution_count": 35,
   "metadata": {
    "id": "ee-mItaYqWwS"
   },
   "outputs": [],
   "source": [
    "from sklearn.metrics import confusion_matrix"
   ]
  },
  {
   "cell_type": "code",
   "execution_count": 36,
   "metadata": {
    "colab": {
     "base_uri": "https://localhost:8080/"
    },
    "id": "Iv6JwMh6qef3",
    "outputId": "563e3882-44f1-4d8d-997c-15d6129cf6d4"
   },
   "outputs": [
    {
     "data": {
      "text/plain": [
       "array([[103,   9],\n",
       "       [  9,  33]])"
      ]
     },
     "execution_count": 36,
     "metadata": {
      "tags": []
     },
     "output_type": "execute_result"
    }
   ],
   "source": [
    "confusion_matrix(y_test, pred_y)"
   ]
  },
  {
   "cell_type": "code",
   "execution_count": 37,
   "metadata": {
    "colab": {
     "base_uri": "https://localhost:8080/"
    },
    "id": "mwFWo2xS5F_d",
    "outputId": "105f64e0-e64a-4d44-ccd5-ec1544e87535"
   },
   "outputs": [
    {
     "data": {
      "text/plain": [
       "0.8831168831168831"
      ]
     },
     "execution_count": 37,
     "metadata": {
      "tags": []
     },
     "output_type": "execute_result"
    }
   ],
   "source": [
    "acc = (103 + 33)/(103 + 33 + 9 + 9)\n",
    "acc"
   ]
  }
 ],
 "metadata": {
  "colab": {
   "collapsed_sections": [],
   "name": "ML-MINOR-MAY.ipynb",
   "provenance": []
  },
  "kernelspec": {
   "display_name": "Python 3",
   "language": "python",
   "name": "python3"
  },
  "language_info": {
   "codemirror_mode": {
    "name": "ipython",
    "version": 3
   },
   "file_extension": ".py",
   "mimetype": "text/x-python",
   "name": "python",
   "nbconvert_exporter": "python",
   "pygments_lexer": "ipython3",
   "version": "3.8.5"
  }
 },
 "nbformat": 4,
 "nbformat_minor": 1
}
